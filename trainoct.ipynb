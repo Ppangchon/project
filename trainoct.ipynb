{
  "nbformat": 4,
  "nbformat_minor": 0,
  "metadata": {
    "colab": {
      "provenance": [],
      "authorship_tag": "ABX9TyM0scT3+pnBZrftbLhcjRr5",
      "include_colab_link": true
    },
    "kernelspec": {
      "name": "python3",
      "display_name": "Python 3"
    },
    "language_info": {
      "name": "python"
    }
  },
  "cells": [
    {
      "cell_type": "markdown",
      "metadata": {
        "id": "view-in-github",
        "colab_type": "text"
      },
      "source": [
        "<a href=\"https://colab.research.google.com/github/Ppangchon/project/blob/main/trainoct.ipynb\" target=\"_parent\"><img src=\"https://colab.research.google.com/assets/colab-badge.svg\" alt=\"Open In Colab\"/></a>"
      ]
    },
    {
      "cell_type": "code",
      "execution_count": 18,
      "metadata": {
        "colab": {
          "base_uri": "https://localhost:8080/"
        },
        "id": "oJ6qVWPFPi7K",
        "outputId": "9bbe5028-f5bb-471e-f043-2ad99c9d9c53"
      },
      "outputs": [
        {
          "output_type": "stream",
          "name": "stdout",
          "text": [
            "Looking in indexes: https://pypi.org/simple, https://us-python.pkg.dev/colab-wheels/public/simple/\n",
            "Requirement already satisfied: opencv-python in /usr/local/lib/python3.8/dist-packages (4.6.0.66)\n",
            "Requirement already satisfied: numpy>=1.17.3 in /usr/local/lib/python3.8/dist-packages (from opencv-python) (1.21.6)\n"
          ]
        }
      ],
      "source": [
        "# Import libraries\n",
        "!pip install opencv-python\n",
        "import os,cv2\n",
        "import numpy as np\n",
        "import matplotlib.pyplot as plt\n",
        "\n",
        "from sklearn.utils import shuffle\n",
        "from sklearn.model_selection import train_test_split\n",
        "\n",
        "from keras import backend as K\n",
        "K.image_data_format()\n",
        "from keras.utils import np_utils\n",
        "from keras.models import Sequential\n",
        "from keras.layers.core import Dense, Dropout, Activation, Flatten\n",
        "from keras.layers.convolutional import Convolution2D, MaxPooling2D\n",
        "from keras.optimizers import SGD,RMSprop,Adam\n",
        "import glob"
      ]
    },
    {
      "cell_type": "code",
      "source": [
        "from google.colab import drive # เชื่อม drive ของเรา ถ้าเชื่อมสำเร็จจะขึ้นคำว่าMounted at /content/drive \n",
        "drive.mount('/content/drive')"
      ],
      "metadata": {
        "colab": {
          "base_uri": "https://localhost:8080/"
        },
        "id": "gCWAl0P_P-PU",
        "outputId": "2377fef0-13f0-4c93-9669-fdebbc423e7c"
      },
      "execution_count": 19,
      "outputs": [
        {
          "output_type": "stream",
          "name": "stdout",
          "text": [
            "Drive already mounted at /content/drive; to attempt to forcibly remount, call drive.mount(\"/content/drive\", force_remount=True).\n"
          ]
        }
      ]
    },
    {
      "cell_type": "code",
      "source": [
        "import os # os จัดการเกี่ยวกับไฟล์ต่างๆ ในโฟล์เดอร์\n",
        "path = '/content/drive/My Drive/eyedataset'  # ชี้ว่า data เราอยู่โฟล์เดอร์ไหน"
      ],
      "metadata": {
        "id": "1RVljtTzQPD_"
      },
      "execution_count": 20,
      "outputs": []
    },
    {
      "cell_type": "code",
      "source": [
        "train =\"/content/drive/My Drive/eyedataset/Train\"\n",
        "test =\"/content/drive/My Drive/eyedataset/Test\"\n",
        "validation =\"/content/drive/My Drive/eyedataset/Validation\""
      ],
      "metadata": {
        "id": "oDpQ7IGZPzir"
      },
      "execution_count": 21,
      "outputs": []
    },
    {
      "cell_type": "code",
      "source": [
        "main_dir = os.listdir('/content/drive/My Drive/eyedataset/')\n",
        "print(main_dir)\n",
        "\n",
        "for i in main_dir:\n",
        "    data_dir_list =  os.listdir('/content/drive/My Drive/eyedataset/'+ str(i) )\n",
        "    print(i, data_dir_list)"
      ],
      "metadata": {
        "colab": {
          "base_uri": "https://localhost:8080/"
        },
        "id": "xAMxbtnRQ_Z_",
        "outputId": "ba3ab0d3-1b1d-41f9-df3e-3ffda53f6353"
      },
      "execution_count": 22,
      "outputs": [
        {
          "output_type": "stream",
          "name": "stdout",
          "text": [
            "['Train', 'Validation', 'Test']\n",
            "Train ['VKH', 'PCV', 'Normal', 'CSC']\n",
            "Validation ['CSC', 'Normal', 'PCV', 'VKH']\n",
            "Test ['Normal', 'CSC', 'VKH', 'PCV']\n"
          ]
        }
      ]
    },
    {
      "cell_type": "code",
      "source": [
        "no_images = 0\n",
        "for i in main_dir:\n",
        "    data_dir_list =  os.listdir('/content/drive/My Drive/eyedataset/'+ str(i) )\n",
        "    print(i, data_dir_list)\n",
        "    for dataset in data_dir_list:\n",
        "        img_list = os.listdir( '/content/drive/My Drive/eyedataset/'+str(i)+ '/' + dataset)\n",
        "        no_images = no_images+len(img_list)\n",
        "print(no_images)"
      ],
      "metadata": {
        "colab": {
          "base_uri": "https://localhost:8080/"
        },
        "id": "UhT2BVeKRLm9",
        "outputId": "258b4023-5c2b-4307-a0d5-4626684c7783"
      },
      "execution_count": 23,
      "outputs": [
        {
          "output_type": "stream",
          "name": "stdout",
          "text": [
            "Train ['VKH', 'PCV', 'Normal', 'CSC']\n",
            "Validation ['CSC', 'Normal', 'PCV', 'VKH']\n",
            "Test ['Normal', 'CSC', 'VKH', 'PCV']\n",
            "22379\n"
          ]
        }
      ]
    },
    {
      "cell_type": "code",
      "source": [
        "# Define the number of classes\n",
        "labels = np.ones((no_images,),dtype='int64')\n",
        "label_index=0"
      ],
      "metadata": {
        "id": "9NJbR4GLRa2j"
      },
      "execution_count": 24,
      "outputs": []
    },
    {
      "cell_type": "code",
      "source": [
        "len(labels)"
      ],
      "metadata": {
        "colab": {
          "base_uri": "https://localhost:8080/"
        },
        "id": "pjutrP6hRklV",
        "outputId": "1229cb58-00c8-48e8-ee4d-3a6c1e06df92"
      },
      "execution_count": 25,
      "outputs": [
        {
          "output_type": "execute_result",
          "data": {
            "text/plain": [
              "22379"
            ]
          },
          "metadata": {},
          "execution_count": 25
        }
      ]
    },
    {
      "cell_type": "code",
      "source": [
        "img_data_list=[]\n",
        "img=0\n",
        "\n",
        "for i in main_dir:\n",
        "    data_dir_list =  os.listdir('/content/drive/My Drive/eyedataset/'+ str(i) )\n",
        "    print(i, data_dir_list)\n",
        "    \n",
        "    for dataset in data_dir_list:\n",
        "        img_list = os.listdir( '/content/drive/My Drive/eyedataset/'+str(i)+ '/' + dataset)\n",
        "        print ('Loading the images of dataset-'+'{}\\n'.format(dataset))\n",
        "        \n",
        "        for img in img_list:\n",
        "            input_img=cv2.imread('/content/drive/My Drive/eyedataset/' + str(i)+ '/'+ dataset + '/'+ img)\n",
        "            \n",
        "            input_img=cv2.cvtColor(input_img, cv2.COLOR_BGR2GRAY)\n",
        "            input_img_resize=cv2.resize(input_img,(256,256))\n",
        "            \n",
        "            img_data_list.append(input_img_resize)\n",
        "            \n",
        "            if dataset==  'VKH':\n",
        "                labels[label_index]=  0\n",
        "                \n",
        "            if dataset == 'PCV':\n",
        "                labels[label_index] = 1\n",
        "                \n",
        "            if dataset == 'Normal':\n",
        "                labels[label_index] = 2\n",
        "                \n",
        "            if dataset == 'CSC':\n",
        "                labels[label_index] = 3\n",
        "                \n",
        "            label_index = label_index+1"
      ],
      "metadata": {
        "colab": {
          "base_uri": "https://localhost:8080/"
        },
        "id": "0-5tayWeRotb",
        "outputId": "fabe290f-fd11-4cd5-b4a9-4f25a6e9de2d"
      },
      "execution_count": 26,
      "outputs": [
        {
          "output_type": "stream",
          "name": "stdout",
          "text": [
            "Train ['VKH', 'PCV', 'Normal', 'CSC']\n",
            "Loading the images of dataset-VKH\n",
            "\n",
            "Loading the images of dataset-PCV\n",
            "\n",
            "Loading the images of dataset-Normal\n",
            "\n",
            "Loading the images of dataset-CSC\n",
            "\n",
            "Validation ['CSC', 'Normal', 'PCV', 'VKH']\n",
            "Loading the images of dataset-CSC\n",
            "\n",
            "Loading the images of dataset-Normal\n",
            "\n",
            "Loading the images of dataset-PCV\n",
            "\n",
            "Loading the images of dataset-VKH\n",
            "\n",
            "Test ['Normal', 'CSC', 'VKH', 'PCV']\n",
            "Loading the images of dataset-Normal\n",
            "\n",
            "Loading the images of dataset-CSC\n",
            "\n",
            "Loading the images of dataset-VKH\n",
            "\n",
            "Loading the images of dataset-PCV\n",
            "\n"
          ]
        }
      ]
    },
    {
      "cell_type": "code",
      "source": [
        "import gc"
      ],
      "metadata": {
        "id": "3IxHlpS2VqzO"
      },
      "execution_count": 27,
      "outputs": []
    },
    {
      "cell_type": "code",
      "source": [
        "len(img_data_list)"
      ],
      "metadata": {
        "colab": {
          "base_uri": "https://localhost:8080/"
        },
        "id": "8TI-JaqlVsxa",
        "outputId": "54a11996-158e-4c00-bedc-492443c0fb82"
      },
      "execution_count": 28,
      "outputs": [
        {
          "output_type": "execute_result",
          "data": {
            "text/plain": [
              "22379"
            ]
          },
          "metadata": {},
          "execution_count": 28
        }
      ]
    },
    {
      "cell_type": "code",
      "source": [
        "import seaborn as sns\n",
        "sns.countplot(labels);\n",
        "plt.show()"
      ],
      "metadata": {
        "colab": {
          "base_uri": "https://localhost:8080/",
          "height": 320
        },
        "id": "IeNoThayVwJI",
        "outputId": "781e9c15-3782-4cf2-8fb3-34290b152bd6"
      },
      "execution_count": 29,
      "outputs": [
        {
          "output_type": "stream",
          "name": "stderr",
          "text": [
            "/usr/local/lib/python3.8/dist-packages/seaborn/_decorators.py:36: FutureWarning: Pass the following variable as a keyword arg: x. From version 0.12, the only valid positional argument will be `data`, and passing other arguments without an explicit keyword will result in an error or misinterpretation.\n",
            "  warnings.warn(\n"
          ]
        },
        {
          "output_type": "display_data",
          "data": {
            "text/plain": [
              "<Figure size 432x288 with 1 Axes>"
            ],
            "image/png": "[encoded data removed]"
          },
          "metadata": {
            "needs_background": "light"
          }
        }
      ]
    },
    {
      "cell_type": "code",
      "source": [
        "img_data_list = np.array(img_data_list)\n",
        "img_data_list = img_data_list.astype('float32')\n",
        "img_data_list /= 255\n",
        "print (img_data_list.shape)"
      ],
      "metadata": {
        "colab": {
          "base_uri": "https://localhost:8080/"
        },
        "id": "Cfs8fyjyV5OR",
        "outputId": "b18b1214-c25d-47b5-ba64-9bf669c04170"
      },
      "execution_count": 30,
      "outputs": [
        {
          "output_type": "stream",
          "name": "stdout",
          "text": [
            "(22379, 256, 256)\n"
          ]
        }
      ]
    },
    {
      "cell_type": "code",
      "source": [
        "num_channel=1\n",
        "if num_channel==1:\n",
        "    if K.image_data_format()=='th':\n",
        "        img_data_list= np.expand_dims(img_data_list, axis=1)\n",
        "        print (img_data_list.shape)\n",
        "    else:\n",
        "        img_data_list= np.expand_dims(img_data_list, axis=3)\n",
        "        print (img_data_list.shape)\n",
        "\n",
        "else:\n",
        "    if K.image_data_format()=='th':\n",
        "        img_data_list = np.rollaxis(img_data_list,3,1)\n",
        "        print (img_data_list.shape)"
      ],
      "metadata": {
        "colab": {
          "base_uri": "https://localhost:8080/"
        },
        "id": "I2I29ZryV-Qm",
        "outputId": "54867e27-dce2-4822-b87d-fbc3e69db17d"
      },
      "execution_count": 31,
      "outputs": [
        {
          "output_type": "stream",
          "name": "stdout",
          "text": [
            "(22379, 256, 256, 1)\n"
          ]
        }
      ]
    },
    {
      "cell_type": "code",
      "source": [
        "# Define the number of classes\n",
        "num_classes = 4\n",
        "\n",
        "names = ['VKH','PCV','Normal','CSC']\n",
        "\n",
        "# convert class labels to on-hot encoding\n",
        "Y = np_utils.to_categorical(labels, num_classes)"
      ],
      "metadata": {
        "id": "y5RBdtI7WERU"
      },
      "execution_count": 32,
      "outputs": []
    },
    {
      "cell_type": "code",
      "source": [
        "# Split the dataset with 20% testing data\n",
        "X_train, X_test, y_train, y_test = train_test_split(img_data_list, Y ,test_size = 0.20) #, random_state = 2"
      ],
      "metadata": {
        "id": "IOx9pqyiYNsT"
      },
      "execution_count": null,
      "outputs": []
    }
  ]
}