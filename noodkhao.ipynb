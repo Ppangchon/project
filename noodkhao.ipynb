{
  "nbformat": 4,
  "nbformat_minor": 0,
  "metadata": {
    "colab": {
      "provenance": [],
      "authorship_tag": "ABX9TyOHXJBFS6z5qFIUwO7Rpqrp",
      "include_colab_link": true
    },
    "kernelspec": {
      "name": "python3",
      "display_name": "Python 3"
    },
    "language_info": {
      "name": "python"
    }
  },
  "cells": [
    {
      "cell_type": "markdown",
      "metadata": {
        "id": "view-in-github",
        "colab_type": "text"
      },
      "source": [
        "<a href=\"https://colab.research.google.com/github/Ppangchon/project/blob/main/noodkhao.ipynb\" target=\"_parent\"><img src=\"https://colab.research.google.com/assets/colab-badge.svg\" alt=\"Open In Colab\"/></a>"
      ]
    },
    {
      "cell_type": "code",
      "source": [
        "import pandas as pd"
      ],
      "metadata": {
        "id": "QdQQHn62kzWW"
      },
      "execution_count": 25,
      "outputs": []
    },
    {
      "cell_type": "code",
      "execution_count": 1,
      "metadata": {
        "colab": {
          "base_uri": "https://localhost:8080/"
        },
        "id": "dLhM4Q1Bfujt",
        "outputId": "f9389f9a-fd3d-4aaf-81af-301568bb745c"
      },
      "outputs": [
        {
          "output_type": "stream",
          "name": "stdout",
          "text": [
            "Mounted at /content/drive\n"
          ]
        }
      ],
      "source": [
        "from google.colab import drive # เชื่อม drive ของเรา ถ้าเชื่อมสำเร็จจะขึ้นคำว่าMounted at /content/drive \n",
        "drive.mount('/content/drive')"
      ]
    },
    {
      "cell_type": "code",
      "source": [
        "from fastai.vision import *\n",
        "import warnings\n",
        "warnings.filterwarnings(\"ignore\")"
      ],
      "metadata": {
        "id": "zODJIcoxlzzR"
      },
      "execution_count": 29,
      "outputs": []
    },
    {
      "cell_type": "code",
      "source": [
        "import os # os จัดการเกี่ยวกับไฟล์ต่างๆ ในโฟล์เดอร์"
      ],
      "metadata": {
        "id": "ZmkYO7gqiLG0"
      },
      "execution_count": 2,
      "outputs": []
    },
    {
      "cell_type": "code",
      "source": [
        "path = '/content/drive/My Drive/Test code/noodkhao'  # ชี้ว่า data เราอยู่โฟล์เดอร์ไหน"
      ],
      "metadata": {
        "id": "51uwwnCGiOye"
      },
      "execution_count": 3,
      "outputs": []
    },
    {
      "cell_type": "code",
      "source": [
        "food_file_path = os.path.join(path,'noodle.csv') \n",
        "print(food_file_path)"
      ],
      "metadata": {
        "colab": {
          "base_uri": "https://localhost:8080/"
        },
        "id": "Wdi55JsgjZwX",
        "outputId": "4d22e9d6-b297-4f0d-9390-7d87a1a34f72"
      },
      "execution_count": 15,
      "outputs": [
        {
          "output_type": "stream",
          "name": "stdout",
          "text": [
            "/content/drive/My Drive/Test code/noodkhao/noodle.csv\n"
          ]
        }
      ]
    },
    {
      "cell_type": "code",
      "source": [
        "food_file_path = os.path.join(path,'khaosoi.csv') \n",
        "print(food_file_path)"
      ],
      "metadata": {
        "colab": {
          "base_uri": "https://localhost:8080/"
        },
        "id": "T73k-ZlGj7tr",
        "outputId": "41ae9d72-3768-4655-c8ee-c3f917414dd6"
      },
      "execution_count": 17,
      "outputs": [
        {
          "output_type": "stream",
          "name": "stdout",
          "text": [
            "/content/drive/My Drive/Test code/noodkhao/khaosoi.csv\n"
          ]
        }
      ]
    },
    {
      "cell_type": "code",
      "source": [
        "from PIL import Image\n",
        "import matplotlib.pyplot as plt\n",
        "import numpy as np"
      ],
      "metadata": {
        "id": "LWTJHeoxpppC"
      },
      "execution_count": 47,
      "outputs": []
    },
    {
      "cell_type": "code",
      "source": [
        "from pickleshare import Path\n",
        "def download_google_image_from_csv(src:str,dest_path:Path,folder_name:str):\n",
        "  # create destination path\n",
        "  dest_folder = dest_path/folder_name\n",
        "  dest_folder.mkdir(parents=True, exist_ok=True)\n",
        "\n",
        "  # download images using method from fastai\n",
        "  download_google_image_from_csv(src,dest_folder)"
      ],
      "metadata": {
        "id": "BT8DdQgGl3TJ"
      },
      "execution_count": 41,
      "outputs": []
    },
    {
      "cell_type": "code",
      "source": [
        "path = Path('foods')\n",
        "files = 'khaosoi.csv noodle.csv'.split() # <=== change this to your own directories\n",
        "folder_names = [fn.split('.')[0] for fn in files]"
      ],
      "metadata": {
        "id": "Dfr1Sx2PmFyZ"
      },
      "execution_count": 42,
      "outputs": []
    },
    {
      "cell_type": "code",
      "metadata": {
        "id": "2MuG6hbUnyry",
        "outputId": "381f21f8-9a94-48be-b6b0-d1d2305f89a9",
        "colab": {
          "base_uri": "https://localhost:8080/"
        }
      },
      "source": [
        "!ls foods"
      ],
      "execution_count": 43,
      "outputs": [
        {
          "output_type": "stream",
          "name": "stdout",
          "text": [
            "khaosoi\n"
          ]
        }
      ]
    },
    {
      "cell_type": "code",
      "source": [],
      "metadata": {
        "id": "GA7NtGyysLQB"
      },
      "execution_count": null,
      "outputs": []
    }
  ]
}