{
  "nbformat": 4,
  "nbformat_minor": 0,
  "metadata": {
    "colab": {
      "provenance": [],
      "authorship_tag": "ABX9TyOwXbG4E4csbSmcxX2bDRj9",
      "include_colab_link": true
    },
    "kernelspec": {
      "name": "python3",
      "display_name": "Python 3"
    },
    "language_info": {
      "name": "python"
    }
  },
  "cells": [
    {
      "cell_type": "markdown",
      "metadata": {
        "id": "view-in-github",
        "colab_type": "text"
      },
      "source": [
        "<a href=\"https://colab.research.google.com/github/Ppangchon/project/blob/main/trainsavemodel.ipynb\" target=\"_parent\"><img src=\"https://colab.research.google.com/assets/colab-badge.svg\" alt=\"Open In Colab\"/></a>"
      ]
    },
    {
      "cell_type": "markdown",
      "metadata": {
        "id": "MH68Y5_N9IE7"
      },
      "source": [
        "# 1. Import Library"
      ]
    },
    {
      "cell_type": "code",
      "execution_count": 83,
      "metadata": {
        "id": "5NqOOyoShtdj"
      },
      "outputs": [],
      "source": [
        "import numpy as np\n",
        "import matplotlib.pyplot as plt\n",
        "from tensorflow.keras.preprocessing.image import ImageDataGenerator\n",
        "from tensorflow.keras import Sequential\n",
        "from tensorflow.keras.layers import (Dense, Conv2D, AveragePooling2D, Flatten, Dropout, MaxPool2D)\n",
        "import time\n",
        "from keras.preprocessing import image\n",
        "from tensorflow.keras.preprocessing.image import load_img, img_to_array\n",
        "import tensorflow as tf\n",
        "from tensorflow import keras"
      ]
    },
    {
      "cell_type": "markdown",
      "source": [
        "# 2. ข้อมูล"
      ],
      "metadata": {
        "id": "WKb1ky5rnIkA"
      }
    },
    {
      "cell_type": "markdown",
      "source": [],
      "metadata": {
        "id": "fY40LNGRnMrW"
      }
    },
    {
      "cell_type": "code",
      "source": [
        "from google.colab import drive # เชื่อม drive ของเรา Mounted at /content/drive เชื่อมสำเร็จ\n",
        "drive.mount('/content/drive')"
      ],
      "metadata": {
        "colab": {
          "base_uri": "https://localhost:8080/"
        },
        "id": "gx_dqqTh0db3",
        "outputId": "cc178765-1aa0-4dd2-ca9c-b889eded6e5e"
      },
      "execution_count": 3,
      "outputs": [
        {
          "output_type": "stream",
          "name": "stdout",
          "text": [
            "Mounted at /content/drive\n"
          ]
        }
      ]
    },
    {
      "cell_type": "code",
      "source": [
        "import os # os จัดการเกี่ยวกับไฟล์ต่างๆ ในโฟล์เดอร์\n",
        "path = '/content/drive/My Drive/trycode'  # data เราอยู่โฟล์เดอร์ไหน"
      ],
      "metadata": {
        "id": "iRIEXt1J0fSw"
      },
      "execution_count": 4,
      "outputs": []
    },
    {
      "cell_type": "code",
      "source": [
        "train_dir =\"/content/drive/My Drive/trycode/train\"   # สำหรับ Train\n",
        "test_dir =\"/content/drive/My Drive/trycode/test\"     # สำหรับ Validation\n",
        "val_dir =\"/content/drive/My Drive/trycode/val\"       # สำหรับ Test\n",
        "\n",
        "# ขนาดภาพอินพุตเข้าสู่ Model (W x H)\n",
        "target_img_shape = (64,64)"
      ],
      "metadata": {
        "id": "v_is8ygg0mkz"
      },
      "execution_count": 6,
      "outputs": []
    },
    {
      "cell_type": "code",
      "source": [
        "# กำหนด Normalize pixel\n",
        "train_datagen = ImageDataGenerator(rescale = 1./255)"
      ],
      "metadata": {
        "id": "7rqKkYEsjeHb"
      },
      "execution_count": 7,
      "outputs": []
    },
    {
      "cell_type": "code",
      "source": [
        "train_set = train_datagen.flow_from_directory(train_dir, target_size=target_img_shape, batch_size=10, class_mode='categorical')"
      ],
      "metadata": {
        "colab": {
          "base_uri": "https://localhost:8080/"
        },
        "id": "zEhUGD3IlVvo",
        "outputId": "3dde4f8d-ff09-4f10-8813-b24f37f1683e"
      },
      "execution_count": 8,
      "outputs": [
        {
          "output_type": "stream",
          "name": "stdout",
          "text": [
            "Found 60 images belonging to 4 classes.\n"
          ]
        }
      ]
    },
    {
      "cell_type": "code",
      "source": [
        "val_datagen = ImageDataGenerator(rescale = 1./255)\n",
        "val_set = train_datagen.flow_from_directory(val_dir, target_size=target_img_shape, batch_size=10, class_mode='categorical')   "
      ],
      "metadata": {
        "colab": {
          "base_uri": "https://localhost:8080/"
        },
        "id": "2EpTGjnjmPLV",
        "outputId": "537214fa-883e-4426-a53b-5612936d5fc4"
      },
      "execution_count": 28,
      "outputs": [
        {
          "output_type": "stream",
          "name": "stdout",
          "text": [
            "Found 60 images belonging to 4 classes.\n"
          ]
        }
      ]
    },
    {
      "cell_type": "markdown",
      "source": [
        "# Visualization"
      ],
      "metadata": {
        "id": "o_UBWawrnRj9"
      }
    },
    {
      "cell_type": "code",
      "source": [
        "print('Train')\n",
        "ids, counts = np.unique(train_set.classes, return_counts=True)\n",
        "print(ids)        # คลาส\n",
        "print(counts)     # จำนวนข้อมูลของคลาส"
      ],
      "metadata": {
        "id": "bicnoZ-GnWx1",
        "outputId": "498cf742-4129-4b64-903d-d3ba303de951",
        "colab": {
          "base_uri": "https://localhost:8080/"
        }
      },
      "execution_count": 26,
      "outputs": [
        {
          "output_type": "stream",
          "name": "stdout",
          "text": [
            "Train\n",
            "[0 1 2 3]\n",
            "[15 15 15 15]\n"
          ]
        }
      ]
    },
    {
      "cell_type": "code",
      "source": [
        "print('Validation')\n",
        "ids, counts = np.unique(val_set.classes, return_counts=True)\n",
        "print(ids)        # คลาส\n",
        "print(counts)     # จำนวนข้อมูลของคลาส"
      ],
      "metadata": {
        "id": "6CHpxrreqN9a",
        "outputId": "3a3bcb10-4abe-4795-a6ce-1409a4457af8",
        "colab": {
          "base_uri": "https://localhost:8080/"
        }
      },
      "execution_count": 29,
      "outputs": [
        {
          "output_type": "stream",
          "name": "stdout",
          "text": [
            "Validation\n",
            "[0 1 2 3]\n",
            "[15 15 15 15]\n"
          ]
        }
      ]
    },
    {
      "cell_type": "code",
      "source": [
        "train_set[0][0][0].shape"
      ],
      "metadata": {
        "id": "n3ifee4YrGw7",
        "outputId": "014beee6-0628-47ae-885d-2a77ea28f0d3",
        "colab": {
          "base_uri": "https://localhost:8080/"
        }
      },
      "execution_count": 30,
      "outputs": [
        {
          "output_type": "execute_result",
          "data": {
            "text/plain": [
              "(64, 64, 3)"
            ]
          },
          "metadata": {},
          "execution_count": 30
        }
      ]
    },
    {
      "cell_type": "markdown",
      "source": [
        "# ดูตัวอย่างคลาส และ Visualize ภาพ"
      ],
      "metadata": {
        "id": "dHA5QgXBrYWh"
      }
    },
    {
      "cell_type": "code",
      "source": [
        "print(train_set.class_indices)\n",
        "\n",
        "for image_batch, labels_batch in train_set:\n",
        "  print(image_batch.shape)\n",
        "  print(labels_batch.shape)\n",
        "  plt.imshow(image_batch[0])\n",
        "  print('class:', labels_batch[0])\n",
        "  break"
      ],
      "metadata": {
        "id": "oWYJ26MArStZ",
        "outputId": "45bec735-2043-46f5-dc5e-e796e501059a",
        "colab": {
          "base_uri": "https://localhost:8080/",
          "height": 337
        }
      },
      "execution_count": 31,
      "outputs": [
        {
          "output_type": "stream",
          "name": "stdout",
          "text": [
            "{'CSC': 0, 'NORMAL': 1, 'PCV': 2, 'VKH': 3}\n",
            "(10, 64, 64, 3)\n",
            "(10, 4)\n",
            "class: [0. 1. 0. 0.]\n"
          ]
        },
        {
          "output_type": "display_data",
          "data": {
            "text/plain": [
              "<Figure size 432x288 with 1 Axes>"
            ],
            "image/png": "[encoded data removed]"
          },
          "metadata": {
            "needs_background": "light"
          }
        }
      ]
    },
    {
      "cell_type": "code",
      "source": [
        "plt.imshow(train_set[0][0][0])\n",
        "plt.show()"
      ],
      "metadata": {
        "id": "jyurRmGytHEc",
        "outputId": "fa3cc565-613e-4d92-e025-8b465096a017",
        "colab": {
          "base_uri": "https://localhost:8080/",
          "height": 268
        }
      },
      "execution_count": 32,
      "outputs": [
        {
          "output_type": "display_data",
          "data": {
            "text/plain": [
              "<Figure size 432x288 with 1 Axes>"
            ],
            "image/png": "[encoded data removed]"
          },
          "metadata": {
            "needs_background": "light"
          }
        }
      ]
    },
    {
      "cell_type": "code",
      "source": [
        "plt.imshow(val_set[0][0][0])\n",
        "plt.show()"
      ],
      "metadata": {
        "id": "eybyHQSltTbt",
        "outputId": "115b457c-5c6a-4d7c-a009-996590e79258",
        "colab": {
          "base_uri": "https://localhost:8080/",
          "height": 268
        }
      },
      "execution_count": 33,
      "outputs": [
        {
          "output_type": "display_data",
          "data": {
            "text/plain": [
              "<Figure size 432x288 with 1 Axes>"
            ],
            "image/png": "[encoded data removed]"
          },
          "metadata": {
            "needs_background": "light"
          }
        }
      ]
    },
    {
      "cell_type": "markdown",
      "source": [
        "# สร้าง Model"
      ],
      "metadata": {
        "id": "o_UvszmEtbiH"
      }
    },
    {
      "cell_type": "code",
      "source": [
        "in_shape = (target_img_shape[0], target_img_shape[1], 3)\n",
        "in_shape"
      ],
      "metadata": {
        "id": "vMxfwMiBtgCT",
        "outputId": "1c94845e-6fd1-43a7-abf7-f3225a28ffc3",
        "colab": {
          "base_uri": "https://localhost:8080/"
        }
      },
      "execution_count": 45,
      "outputs": [
        {
          "output_type": "execute_result",
          "data": {
            "text/plain": [
              "(64, 64, 3)"
            ]
          },
          "metadata": {},
          "execution_count": 45
        }
      ]
    },
    {
      "cell_type": "code",
      "source": [
        "model = Sequential()\n",
        "\n",
        "model.add(Conv2D(32, (3,3), activation = 'relu', input_shape = in_shape))\n",
        "model.add(MaxPool2D((2,2)))\n",
        "\n",
        "model.add(Conv2D(64, (3,3), activation = 'relu'))\n",
        "model.add(MaxPool2D((2,2)))\n",
        "\n",
        "model.add(Conv2D(128, (3,3), activation='relu'))\n",
        "model.add(MaxPool2D((2,2)))\n",
        "\n",
        "model.add(Conv2D(256, (3,3), activation='relu'))\n",
        "model.add(MaxPool2D((2,2)))\n",
        "\n",
        "model.add(Flatten())\n",
        "\n",
        "model.add(Dense(4, activation='softmax'))\n",
        "\n",
        "model.summary()"
      ],
      "metadata": {
        "id": "32SoprkQtuj3",
        "outputId": "4b0b570f-cf09-4d33-ef23-c3e85a77dc2b",
        "colab": {
          "base_uri": "https://localhost:8080/"
        }
      },
      "execution_count": 47,
      "outputs": [
        {
          "output_type": "stream",
          "name": "stdout",
          "text": [
            "Model: \"sequential_8\"\n",
            "_________________________________________________________________\n",
            " Layer (type)                Output Shape              Param #   \n",
            "=================================================================\n",
            " conv2d (Conv2D)             (None, 62, 62, 32)        896       \n",
            "                                                                 \n",
            " max_pooling2d (MaxPooling2D  (None, 31, 31, 32)       0         \n",
            " )                                                               \n",
            "                                                                 \n",
            " conv2d_1 (Conv2D)           (None, 29, 29, 64)        18496     \n",
            "                                                                 \n",
            " max_pooling2d_1 (MaxPooling  (None, 14, 14, 64)       0         \n",
            " 2D)                                                             \n",
            "                                                                 \n",
            " conv2d_2 (Conv2D)           (None, 12, 12, 128)       73856     \n",
            "                                                                 \n",
            " max_pooling2d_2 (MaxPooling  (None, 6, 6, 128)        0         \n",
            " 2D)                                                             \n",
            "                                                                 \n",
            " conv2d_3 (Conv2D)           (None, 4, 4, 256)         295168    \n",
            "                                                                 \n",
            " max_pooling2d_3 (MaxPooling  (None, 2, 2, 256)        0         \n",
            " 2D)                                                             \n",
            "                                                                 \n",
            " flatten (Flatten)           (None, 1024)              0         \n",
            "                                                                 \n",
            " dense (Dense)               (None, 4)                 4100      \n",
            "                                                                 \n",
            "=================================================================\n",
            "Total params: 392,516\n",
            "Trainable params: 392,516\n",
            "Non-trainable params: 0\n",
            "_________________________________________________________________\n"
          ]
        }
      ]
    },
    {
      "cell_type": "markdown",
      "source": [
        "## Complie และ Train"
      ],
      "metadata": {
        "id": "rY8tIu3nwmIJ"
      }
    },
    {
      "cell_type": "code",
      "source": [
        "model.compile(loss='categorical_crossentropy',optimizer = 'adam', metrics = ['accuracy'])"
      ],
      "metadata": {
        "id": "09zwQo89ws9B"
      },
      "execution_count": 89,
      "outputs": []
    },
    {
      "cell_type": "code",
      "source": [
        "checkpoint_path = \"training_1/cp.ckpt\"\n",
        "checkpoint_dir = os.path.dirname(checkpoint_path)\n",
        "# Create a callback that saves the model's weights\n",
        "cp_callback = tf.keras.callbacks.ModelCheckpoint(filepath=checkpoint_path,\n",
        "                                                 save_weights_only=True,\n",
        "                                                 verbose=1)"
      ],
      "metadata": {
        "id": "dvFw03pf5gTZ"
      },
      "execution_count": 90,
      "outputs": []
    },
    {
      "cell_type": "code",
      "source": [
        "start = time.time()\n",
        "\n",
        "history = model.fit(train_set, steps_per_epoch=len(train_set), \n",
        "                    validation_data=val_set, \n",
        "                    epochs=20,verbose=1)\n",
        "\n",
        "end = time.time()\n",
        "print(\"Time Taken: {:.2f} minutes\".format((end-start)/60))"
      ],
      "metadata": {
        "id": "QhbU_tj3xF2u",
        "outputId": "737d5339-0689-4391-a029-7b9b563758f7",
        "colab": {
          "base_uri": "https://localhost:8080/"
        }
      },
      "execution_count": 91,
      "outputs": [
        {
          "output_type": "stream",
          "name": "stdout",
          "text": [
            "Epoch 1/20\n",
            "6/6 [==============================] - 6s 825ms/step - loss: 0.0569 - accuracy: 0.9667 - val_loss: 1.9962e-04 - val_accuracy: 1.0000\n",
            "Epoch 2/20\n",
            "6/6 [==============================] - 2s 381ms/step - loss: 0.1659 - accuracy: 0.9667 - val_loss: 0.0027 - val_accuracy: 1.0000\n",
            "Epoch 3/20\n",
            "6/6 [==============================] - 2s 384ms/step - loss: 0.0034 - accuracy: 1.0000 - val_loss: 7.8633e-04 - val_accuracy: 1.0000\n",
            "Epoch 4/20\n",
            "6/6 [==============================] - 2s 368ms/step - loss: 8.8701e-04 - accuracy: 1.0000 - val_loss: 0.0013 - val_accuracy: 1.0000\n",
            "Epoch 5/20\n",
            "6/6 [==============================] - 2s 378ms/step - loss: 0.0019 - accuracy: 1.0000 - val_loss: 0.0023 - val_accuracy: 1.0000\n",
            "Epoch 6/20\n",
            "6/6 [==============================] - 2s 369ms/step - loss: 0.0021 - accuracy: 1.0000 - val_loss: 0.0012 - val_accuracy: 1.0000\n",
            "Epoch 7/20\n",
            "6/6 [==============================] - 2s 367ms/step - loss: 9.1907e-04 - accuracy: 1.0000 - val_loss: 5.0053e-04 - val_accuracy: 1.0000\n",
            "Epoch 8/20\n",
            "6/6 [==============================] - 2s 387ms/step - loss: 3.4230e-04 - accuracy: 1.0000 - val_loss: 2.5861e-04 - val_accuracy: 1.0000\n",
            "Epoch 9/20\n",
            "6/6 [==============================] - 2s 367ms/step - loss: 1.9566e-04 - accuracy: 1.0000 - val_loss: 1.1773e-04 - val_accuracy: 1.0000\n",
            "Epoch 10/20\n",
            "6/6 [==============================] - 2s 368ms/step - loss: 1.0319e-04 - accuracy: 1.0000 - val_loss: 9.2636e-05 - val_accuracy: 1.0000\n",
            "Epoch 11/20\n",
            "6/6 [==============================] - 2s 375ms/step - loss: 7.3535e-05 - accuracy: 1.0000 - val_loss: 5.4432e-05 - val_accuracy: 1.0000\n",
            "Epoch 12/20\n",
            "6/6 [==============================] - 3s 547ms/step - loss: 4.5664e-05 - accuracy: 1.0000 - val_loss: 3.9358e-05 - val_accuracy: 1.0000\n",
            "Epoch 13/20\n",
            "6/6 [==============================] - 2s 364ms/step - loss: 3.7689e-05 - accuracy: 1.0000 - val_loss: 3.3661e-05 - val_accuracy: 1.0000\n",
            "Epoch 14/20\n",
            "6/6 [==============================] - 2s 355ms/step - loss: 3.1915e-05 - accuracy: 1.0000 - val_loss: 2.6432e-05 - val_accuracy: 1.0000\n",
            "Epoch 15/20\n",
            "6/6 [==============================] - 2s 395ms/step - loss: 2.5168e-05 - accuracy: 1.0000 - val_loss: 2.2424e-05 - val_accuracy: 1.0000\n",
            "Epoch 16/20\n",
            "6/6 [==============================] - 2s 372ms/step - loss: 2.1278e-05 - accuracy: 1.0000 - val_loss: 1.9647e-05 - val_accuracy: 1.0000\n",
            "Epoch 17/20\n",
            "6/6 [==============================] - 2s 363ms/step - loss: 1.8701e-05 - accuracy: 1.0000 - val_loss: 1.7140e-05 - val_accuracy: 1.0000\n",
            "Epoch 18/20\n",
            "6/6 [==============================] - 2s 384ms/step - loss: 1.6556e-05 - accuracy: 1.0000 - val_loss: 1.5086e-05 - val_accuracy: 1.0000\n",
            "Epoch 19/20\n",
            "6/6 [==============================] - 2s 381ms/step - loss: 1.5020e-05 - accuracy: 1.0000 - val_loss: 1.3707e-05 - val_accuracy: 1.0000\n",
            "Epoch 20/20\n",
            "6/6 [==============================] - 2s 384ms/step - loss: 1.3490e-05 - accuracy: 1.0000 - val_loss: 1.2256e-05 - val_accuracy: 1.0000\n",
            "Time Taken: 0.91 minutes\n"
          ]
        }
      ]
    },
    {
      "cell_type": "markdown",
      "source": [
        "## ประเมิน"
      ],
      "metadata": {
        "id": "iPUGT8fSz6n6"
      }
    },
    {
      "cell_type": "code",
      "source": [
        "plt.figure(figsize = (10, 3.5))\n",
        "plt.subplot(1, 2 , 1)\n",
        "plt.title('Loss')\n",
        "plt.plot(history.history['loss'], label = 'Train Loss')\n",
        "plt.plot(history.history['val_loss'], 'r', lw = 3.2, label = 'Validation loss')\n",
        "plt.legend()"
      ],
      "metadata": {
        "id": "0TNb9hTOz83H",
        "outputId": "d1f62735-a7d1-4f36-f65d-113eba857431",
        "colab": {
          "base_uri": "https://localhost:8080/",
          "height": 271
        }
      },
      "execution_count": 63,
      "outputs": [
        {
          "output_type": "execute_result",
          "data": {
            "text/plain": [
              "<matplotlib.legend.Legend at 0x7f0f5828a490>"
            ]
          },
          "metadata": {},
          "execution_count": 63
        },
        {
          "output_type": "display_data",
          "data": {
            "text/plain": [
              "<Figure size 720x252 with 1 Axes>"
            ],
            "image/png": "[encoded data removed]"
          },
          "metadata": {
            "needs_background": "light"
          }
        }
      ]
    },
    {
      "cell_type": "code",
      "source": [
        "plt.subplot(1, 2, 2)\n",
        "plt.title('Accuracy')\n",
        "plt.plot(history.history['accuracy'], label = 'Train')\n",
        "plt.plot(history.history['val_accuracy'], 'r', lw = 3.2, label = 'Validation')\n",
        "plt.legend()\n",
        "plt.tight_layout()\n",
        "plt.show()"
      ],
      "metadata": {
        "id": "AiHKdZng0Lg4",
        "outputId": "637958f0-1691-4bc7-ba77-31855ae5881a",
        "colab": {
          "base_uri": "https://localhost:8080/",
          "height": 297
        }
      },
      "execution_count": 66,
      "outputs": [
        {
          "output_type": "display_data",
          "data": {
            "text/plain": [
              "<Figure size 432x288 with 1 Axes>"
            ],
            "image/png": "[encoded data removed]"
          },
          "metadata": {
            "needs_background": "light"
          }
        }
      ]
    },
    {
      "cell_type": "code",
      "source": [
        "acc = model.evaluate(val_set, steps = len(val_set), verbose = 0)\n",
        "print('score = {:.3f}' .format(acc[1]))"
      ],
      "metadata": {
        "id": "OcK7gDXP1wBh",
        "outputId": "1bd2e0fd-f1f9-4ec2-ea68-575c85b48764",
        "colab": {
          "base_uri": "https://localhost:8080/"
        }
      },
      "execution_count": 67,
      "outputs": [
        {
          "output_type": "stream",
          "name": "stdout",
          "text": [
            "score = 1.000\n"
          ]
        }
      ]
    },
    {
      "cell_type": "markdown",
      "source": [
        "# Save and load models"
      ],
      "metadata": {
        "id": "6--HHcaT4Ssu"
      }
    },
    {
      "cell_type": "code",
      "source": [
        "# Save the weights\n",
        "model.save_weights('./checkpoints/my_checkpoint')\n",
        "\n",
        "# Create a new model instance\n",
        "model = create_model()\n",
        "\n",
        "# Restore the weights\n",
        "model.load_weights('./checkpoints/my_checkpoint')\n",
        "\n",
        "# Evaluate the model\n",
        "loss, acc = model.evaluate(test_images, test_labels, verbose=2)\n",
        "print(\"Restored model, accuracy: {:5.2f}%\".format(100 * acc))"
      ],
      "metadata": {
        "id": "-SeQxZfK68Vx"
      },
      "execution_count": null,
      "outputs": []
    },
    {
      "cell_type": "markdown",
      "source": [
        "# ทดสอบและใช้งาน Model"
      ],
      "metadata": {
        "id": "uGofJtMZ2NV3"
      }
    },
    {
      "cell_type": "code",
      "source": [
        "target_img_shape = (64, 64)\n",
        "test_image = image.load_img('IA3870 19-12-16 RE_002022.png', target_size = target_img_shape)\n",
        "\n",
        "test_image = image.img_to_array(test_image)\n",
        "test_image /= 255.0\n",
        "\n",
        "plt.imshow(test_image)\n",
        "plt.show()"
      ],
      "metadata": {
        "id": "smNEB6-X2SCK",
        "outputId": "cfd60a80-332c-40a4-a140-74f5fb257197",
        "colab": {
          "base_uri": "https://localhost:8080/",
          "height": 252
        }
      },
      "execution_count": 76,
      "outputs": [
        {
          "output_type": "error",
          "ename": "AttributeError",
          "evalue": "ignored",
          "traceback": [
            "\u001b[0;31m---------------------------------------------------------------------------\u001b[0m",
            "\u001b[0;31mAttributeError\u001b[0m                            Traceback (most recent call last)",
            "\u001b[0;32m<ipython-input-76-af1f7e31cce6>\u001b[0m in \u001b[0;36m<module>\u001b[0;34m\u001b[0m\n\u001b[1;32m      1\u001b[0m \u001b[0mtarget_img_shape\u001b[0m \u001b[0;34m=\u001b[0m \u001b[0;34m(\u001b[0m\u001b[0;36m64\u001b[0m\u001b[0;34m,\u001b[0m \u001b[0;36m64\u001b[0m\u001b[0;34m)\u001b[0m\u001b[0;34m\u001b[0m\u001b[0;34m\u001b[0m\u001b[0m\n\u001b[0;32m----> 2\u001b[0;31m \u001b[0mtest_image\u001b[0m \u001b[0;34m=\u001b[0m \u001b[0mimage\u001b[0m\u001b[0;34m.\u001b[0m\u001b[0mload_img\u001b[0m\u001b[0;34m(\u001b[0m\u001b[0;34m'IA3870 19-12-16 RE_002022.png'\u001b[0m\u001b[0;34m,\u001b[0m \u001b[0mtarget_size\u001b[0m \u001b[0;34m=\u001b[0m \u001b[0mtarget_img_shape\u001b[0m\u001b[0;34m)\u001b[0m\u001b[0;34m\u001b[0m\u001b[0;34m\u001b[0m\u001b[0m\n\u001b[0m\u001b[1;32m      3\u001b[0m \u001b[0;34m\u001b[0m\u001b[0m\n\u001b[1;32m      4\u001b[0m \u001b[0mtest_image\u001b[0m \u001b[0;34m=\u001b[0m \u001b[0mimage\u001b[0m\u001b[0;34m.\u001b[0m\u001b[0mimg_to_array\u001b[0m\u001b[0;34m(\u001b[0m\u001b[0mtest_image\u001b[0m\u001b[0;34m)\u001b[0m\u001b[0;34m\u001b[0m\u001b[0;34m\u001b[0m\u001b[0m\n\u001b[1;32m      5\u001b[0m \u001b[0mtest_image\u001b[0m \u001b[0;34m/=\u001b[0m \u001b[0;36m255.0\u001b[0m\u001b[0;34m\u001b[0m\u001b[0;34m\u001b[0m\u001b[0m\n",
            "\u001b[0;31mAttributeError\u001b[0m: module 'keras.preprocessing.image' has no attribute 'load_img'"
          ]
        }
      ]
    }
  ]
}