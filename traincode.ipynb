{
  "nbformat": 4,
  "nbformat_minor": 0,
  "metadata": {
    "colab": {
      "provenance": [],
      "authorship_tag": "ABX9TyPZUtCMK4ItzyYBp25+NrTn",
      "include_colab_link": true
    },
    "kernelspec": {
      "name": "python3",
      "display_name": "Python 3"
    },
    "language_info": {
      "name": "python"
    }
  },
  "cells": [
    {
      "cell_type": "markdown",
      "metadata": {
        "id": "view-in-github",
        "colab_type": "text"
      },
      "source": [
        "<a href=\"https://colab.research.google.com/github/Ppangchon/project/blob/main/traincode.ipynb\" target=\"_parent\"><img src=\"https://colab.research.google.com/assets/colab-badge.svg\" alt=\"Open In Colab\"/></a>"
      ]
    },
    {
      "cell_type": "code",
      "execution_count": 1,
      "metadata": {
        "colab": {
          "base_uri": "https://localhost:8080/"
        },
        "id": "w8Q3Dbj7kVjJ",
        "outputId": "564c46ef-5162-4aa0-df93-47e95a675c51"
      },
      "outputs": [
        {
          "output_type": "stream",
          "name": "stdout",
          "text": [
            "Looking in indexes: https://pypi.org/simple, https://us-python.pkg.dev/colab-wheels/public/simple/\n",
            "Requirement already satisfied: opencv-python in /usr/local/lib/python3.8/dist-packages (4.6.0.66)\n",
            "Requirement already satisfied: numpy>=1.17.3 in /usr/local/lib/python3.8/dist-packages (from opencv-python) (1.21.6)\n"
          ]
        }
      ],
      "source": [
        "# Import libraries\n",
        "!pip install opencv-python\n",
        "import os,cv2\n",
        "import numpy as np\n",
        "import matplotlib.pyplot as plt\n",
        "\n",
        "from sklearn.utils import shuffle\n",
        "from sklearn.model_selection import train_test_split\n",
        "\n",
        "from keras import backend as K\n",
        "K.image_data_format()\n",
        "from keras.utils import np_utils\n",
        "from keras.models import Sequential\n",
        "from keras.layers.core import Dense, Dropout, Activation, Flatten\n",
        "from keras.layers.convolutional import Convolution2D, MaxPooling2D\n",
        "from keras.optimizers import SGD,RMSprop,Adam\n",
        "import glob"
      ]
    },
    {
      "cell_type": "code",
      "source": [
        "from google.colab import drive # เชื่อม drive ของเรา Mounted at /content/drive เชื่อมสำเร็จ\n",
        "drive.mount('/content/drive')"
      ],
      "metadata": {
        "colab": {
          "base_uri": "https://localhost:8080/"
        },
        "id": "kiLXg7Mekebv",
        "outputId": "4cd9d537-c9a7-481f-da30-464076812adc"
      },
      "execution_count": 2,
      "outputs": [
        {
          "output_type": "stream",
          "name": "stdout",
          "text": [
            "Mounted at /content/drive\n"
          ]
        }
      ]
    },
    {
      "cell_type": "code",
      "source": [
        "import os # os จัดการเกี่ยวกับไฟล์ต่างๆ ในโฟล์เดอร์\n",
        "path = '/content/drive/My Drive/trycode'  # data เราอยู่โฟล์เดอร์ไหน"
      ],
      "metadata": {
        "id": "XbKHfrtBkkdi"
      },
      "execution_count": 3,
      "outputs": []
    },
    {
      "cell_type": "code",
      "source": [
        "train =\"/content/drive/My Drive/trycode/train\"\n",
        "test =\"/content/drive/My Drive/trycode/test\"\n",
        "validation =\"/content/drive/My Drive/trycode/val\""
      ],
      "metadata": {
        "id": "WrhFfhpEkrHI"
      },
      "execution_count": 4,
      "outputs": []
    },
    {
      "cell_type": "code",
      "source": [
        "main_dir = os.listdir('/content/drive/My Drive/trycode/')\n",
        "print(main_dir)\n",
        "\n",
        "for i in main_dir:\n",
        "    data_dir_list =  os.listdir('/content/drive/My Drive/trycode/'+ str(i) )\n",
        "    print(i, data_dir_list)"
      ],
      "metadata": {
        "colab": {
          "base_uri": "https://localhost:8080/"
        },
        "id": "8LYPHSgBk6Xf",
        "outputId": "952bd531-f141-434e-f474-399d94b668d8"
      },
      "execution_count": 7,
      "outputs": [
        {
          "output_type": "stream",
          "name": "stdout",
          "text": [
            "['train', 'test', 'val']\n",
            "train ['CSC', 'PCV', 'VKH', 'NORMAL']\n",
            "test ['CSC', 'PCV', 'NORMAL', 'VKH']\n",
            "val ['CSC', 'PCV', 'NORMAL', 'VKH']\n"
          ]
        }
      ]
    },
    {
      "cell_type": "code",
      "source": [
        "no_images = 0\n",
        "for i in main_dir:\n",
        "    data_dir_list =  os.listdir('/content/drive/My Drive/trycode/'+ str(i) )\n",
        "    print(i, data_dir_list)\n",
        "    for dataset in data_dir_list:\n",
        "        img_list = os.listdir( '/content/drive/My Drive/trycode/'+str(i)+ '/' + dataset)\n",
        "        no_images = no_images+len(img_list)\n",
        "print(no_images)"
      ],
      "metadata": {
        "colab": {
          "base_uri": "https://localhost:8080/"
        },
        "id": "aN3itISglD4q",
        "outputId": "fdcc1de7-99f8-4e1a-ba76-ef8b4b6b7199"
      },
      "execution_count": 8,
      "outputs": [
        {
          "output_type": "stream",
          "name": "stdout",
          "text": [
            "train ['CSC', 'PCV', 'VKH', 'NORMAL']\n",
            "test ['CSC', 'PCV', 'NORMAL', 'VKH']\n",
            "val ['CSC', 'PCV', 'NORMAL', 'VKH']\n",
            "160\n"
          ]
        }
      ]
    },
    {
      "cell_type": "code",
      "source": [
        "# กำหนดจำนวนคลาส\n",
        "labels = np.ones((no_images,),dtype='int64')\n",
        "label_index=0"
      ],
      "metadata": {
        "id": "nDtKDA7_lNPx"
      },
      "execution_count": 9,
      "outputs": []
    },
    {
      "cell_type": "code",
      "source": [
        "len(labels)"
      ],
      "metadata": {
        "colab": {
          "base_uri": "https://localhost:8080/"
        },
        "id": "pZ-fxZ3ClO1f",
        "outputId": "fa50e71a-8455-44ad-9e8d-ec13af559ecd"
      },
      "execution_count": 10,
      "outputs": [
        {
          "output_type": "execute_result",
          "data": {
            "text/plain": [
              "160"
            ]
          },
          "metadata": {},
          "execution_count": 10
        }
      ]
    },
    {
      "cell_type": "code",
      "source": [
        "img_data_list=[]\n",
        "img=0\n",
        "\n",
        "for i in main_dir:\n",
        "    data_dir_list =  os.listdir('/content/drive/My Drive/trycode/'+ str(i) )\n",
        "    print(i, data_dir_list)\n",
        "    \n",
        "    for dataset in data_dir_list:\n",
        "        img_list = os.listdir( '/content/drive/My Drive/trycode/'+str(i)+ '/' + dataset)\n",
        "        print ('Loading the images of dataset-'+'{}\\n'.format(dataset))\n",
        "        \n",
        "        for img in img_list:\n",
        "            input_img=cv2.imread('/content/drive/My Drive/trycode/' + str(i)+ '/'+ dataset + '/'+ img)\n",
        "            \n",
        "            input_img=cv2.cvtColor(input_img, cv2.COLOR_BGR2GRAY)\n",
        "            input_img_resize=cv2.resize(input_img,(256,256))\n",
        "            \n",
        "            img_data_list.append(input_img_resize)\n",
        "            \n",
        "            if dataset==  'VKH':\n",
        "                labels[label_index]=  0\n",
        "                \n",
        "            if dataset == 'PCV':\n",
        "                labels[label_index] = 1\n",
        "                \n",
        "            if dataset == 'NORMAL':\n",
        "                labels[label_index] = 2\n",
        "                \n",
        "            if dataset == 'CSC':\n",
        "                labels[label_index] = 3\n",
        "                \n",
        "            label_index = label_index+1"
      ],
      "metadata": {
        "colab": {
          "base_uri": "https://localhost:8080/"
        },
        "id": "I0Ywl_hSlRDu",
        "outputId": "0ad9be65-562c-4d24-b0d1-5ed571e7b5bd"
      },
      "execution_count": 11,
      "outputs": [
        {
          "output_type": "stream",
          "name": "stdout",
          "text": [
            "train ['CSC', 'PCV', 'VKH', 'NORMAL']\n",
            "Loading the images of dataset-CSC\n",
            "\n",
            "Loading the images of dataset-PCV\n",
            "\n",
            "Loading the images of dataset-VKH\n",
            "\n",
            "Loading the images of dataset-NORMAL\n",
            "\n",
            "test ['CSC', 'PCV', 'NORMAL', 'VKH']\n",
            "Loading the images of dataset-CSC\n",
            "\n",
            "Loading the images of dataset-PCV\n",
            "\n",
            "Loading the images of dataset-NORMAL\n",
            "\n",
            "Loading the images of dataset-VKH\n",
            "\n",
            "val ['CSC', 'PCV', 'NORMAL', 'VKH']\n",
            "Loading the images of dataset-CSC\n",
            "\n",
            "Loading the images of dataset-PCV\n",
            "\n",
            "Loading the images of dataset-NORMAL\n",
            "\n",
            "Loading the images of dataset-VKH\n",
            "\n"
          ]
        }
      ]
    },
    {
      "cell_type": "code",
      "source": [
        "import gc"
      ],
      "metadata": {
        "id": "ytIWN5DAlqlc"
      },
      "execution_count": 12,
      "outputs": []
    },
    {
      "cell_type": "code",
      "source": [
        "len(img_data_list)"
      ],
      "metadata": {
        "colab": {
          "base_uri": "https://localhost:8080/"
        },
        "id": "uE_1wCzcls_h",
        "outputId": "8a41a79f-663a-4a7d-f7cd-a3f72478b2cc"
      },
      "execution_count": 13,
      "outputs": [
        {
          "output_type": "execute_result",
          "data": {
            "text/plain": [
              "160"
            ]
          },
          "metadata": {},
          "execution_count": 13
        }
      ]
    },
    {
      "cell_type": "code",
      "source": [
        "import seaborn as sns\n",
        "sns.countplot(labels);\n",
        "plt.show()"
      ],
      "metadata": {
        "colab": {
          "base_uri": "https://localhost:8080/",
          "height": 320
        },
        "id": "zEj0ZZDFlefw",
        "outputId": "ff1da788-48f4-457d-f9cb-fefcb21d242a"
      },
      "execution_count": 14,
      "outputs": [
        {
          "output_type": "stream",
          "name": "stderr",
          "text": [
            "/usr/local/lib/python3.8/dist-packages/seaborn/_decorators.py:36: FutureWarning: Pass the following variable as a keyword arg: x. From version 0.12, the only valid positional argument will be `data`, and passing other arguments without an explicit keyword will result in an error or misinterpretation.\n",
            "  warnings.warn(\n"
          ]
        },
        {
          "output_type": "display_data",
          "data": {
            "text/plain": [
              "<Figure size 432x288 with 1 Axes>"
            ],
            "image/png": "[encoded data removed]"
          },
          "metadata": {
            "needs_background": "light"
          }
        }
      ]
    },
    {
      "cell_type": "code",
      "source": [
        "img_data_list = np.array(img_data_list)\n",
        "img_data_list = img_data_list.astype('float32')\n",
        "img_data_list /= 255\n",
        "print (img_data_list.shape)"
      ],
      "metadata": {
        "colab": {
          "base_uri": "https://localhost:8080/"
        },
        "id": "egO8lDrPlvzh",
        "outputId": "36ffe16e-056b-4c9a-a0b4-093dd16e0835"
      },
      "execution_count": 15,
      "outputs": [
        {
          "output_type": "stream",
          "name": "stdout",
          "text": [
            "(160, 256, 256)\n"
          ]
        }
      ]
    },
    {
      "cell_type": "code",
      "source": [
        "num_channel=1\n",
        "if num_channel==1:\n",
        "    if K.image_data_format()=='th':\n",
        "        img_data_list= np.expand_dims(img_data_list, axis=1)\n",
        "        print (img_data_list.shape)\n",
        "    else:\n",
        "        img_data_list= np.expand_dims(img_data_list, axis=3)\n",
        "        print (img_data_list.shape)\n",
        "\n",
        "else:\n",
        "    if K.image_data_format()=='th':\n",
        "        img_data_list = np.rollaxis(img_data_list,3,1)\n",
        "        print (img_data_list.shape)"
      ],
      "metadata": {
        "colab": {
          "base_uri": "https://localhost:8080/"
        },
        "id": "KVX4-vP_lylM",
        "outputId": "5025f382-7601-4937-b92e-73ca0307f3d5"
      },
      "execution_count": 16,
      "outputs": [
        {
          "output_type": "stream",
          "name": "stdout",
          "text": [
            "(160, 256, 256, 1)\n"
          ]
        }
      ]
    },
    {
      "cell_type": "code",
      "source": [
        "# กำหนดจำนวนคลาส\n",
        "num_classes = 4\n",
        "\n",
        "names = ['CSC','PCV','NORMAL', 'VKH']\n",
        "\n",
        "# แปลงเป็น one-hot encoding\n",
        "Y = np_utils.to_categorical(labels, num_classes)"
      ],
      "metadata": {
        "id": "YnHZlQbsl2AC"
      },
      "execution_count": 17,
      "outputs": []
    },
    {
      "cell_type": "code",
      "source": [
        "# Split the dataset with 20% testing data\n",
        "X_train, X_test, y_train, y_test = train_test_split(img_data_list, Y ,test_size=0.20) #, random_state = 2"
      ],
      "metadata": {
        "id": "PDmMHQiil_IG"
      },
      "execution_count": 18,
      "outputs": []
    },
    {
      "cell_type": "code",
      "source": [
        "del img_data_list"
      ],
      "metadata": {
        "id": "Wp9zu-wgmB9p"
      },
      "execution_count": 19,
      "outputs": []
    },
    {
      "cell_type": "code",
      "source": [
        "gc.collect()"
      ],
      "metadata": {
        "colab": {
          "base_uri": "https://localhost:8080/"
        },
        "id": "XZnb3DPAmDAw",
        "outputId": "98bb0c9d-d675-457d-fe8c-154cc707f63d"
      },
      "execution_count": 20,
      "outputs": [
        {
          "output_type": "execute_result",
          "data": {
            "text/plain": [
              "2457"
            ]
          },
          "metadata": {},
          "execution_count": 20
        }
      ]
    },
    {
      "cell_type": "code",
      "source": [
        "model = Sequential()\n",
        "\n",
        "model.add(Convolution2D(32, (3,3), activation = 'relu',   padding = 'same',input_shape = (256,256,1)))\n",
        "model.add(MaxPooling2D(pool_size = (2,2), strides = (2,2)))\n",
        "\n",
        "model.add(Convolution2D(64, (3,3), activation = 'relu', padding = 'same'))\n",
        "model.add(MaxPooling2D(pool_size = (2,2), strides = (2,2)))\n",
        "\n",
        "model.add(Convolution2D(128, (3,3), activation='relu', padding = 'same'))\n",
        "model.add(MaxPooling2D(pool_size=(2,2), strides=(2,2)))\n",
        "\n",
        "model.add(Convolution2D(256, (3,3), activation='relu', padding = 'same'))\n",
        "model.add(MaxPooling2D(pool_size=(2,2), strides=(2,2)))\n",
        "\n",
        "model.add(Convolution2D(512, (3,2), activation='relu', padding = 'same'))\n",
        "model.add(MaxPooling2D(pool_size=(2,2), strides=(2,2)))\n",
        "\n",
        "model.add(Flatten())\n",
        "\n",
        "# model.add(Dense(512, activation='relu'))\n",
        "model.add(Dense(256, activation='relu'))\n",
        "model.add(Dense(128, activation='relu'))\n",
        "model.add(Dense(64, activation='relu'))\n",
        "model.add(Dense(32, activation='relu'))\n",
        "\n",
        "model.add(Dense(4, activation='softmax'))\n",
        "\n",
        "model.summary()"
      ],
      "metadata": {
        "colab": {
          "base_uri": "https://localhost:8080/"
        },
        "id": "Ot1DjNz5mFdd",
        "outputId": "5d1fc752-dc04-4b1e-d3c3-5695f1385f73"
      },
      "execution_count": 21,
      "outputs": [
        {
          "output_type": "stream",
          "name": "stdout",
          "text": [
            "Model: \"sequential\"\n",
            "_________________________________________________________________\n",
            " Layer (type)                Output Shape              Param #   \n",
            "=================================================================\n",
            " conv2d (Conv2D)             (None, 256, 256, 32)      320       \n",
            "                                                                 \n",
            " max_pooling2d (MaxPooling2D  (None, 128, 128, 32)     0         \n",
            " )                                                               \n",
            "                                                                 \n",
            " conv2d_1 (Conv2D)           (None, 128, 128, 64)      18496     \n",
            "                                                                 \n",
            " max_pooling2d_1 (MaxPooling  (None, 64, 64, 64)       0         \n",
            " 2D)                                                             \n",
            "                                                                 \n",
            " conv2d_2 (Conv2D)           (None, 64, 64, 128)       73856     \n",
            "                                                                 \n",
            " max_pooling2d_2 (MaxPooling  (None, 32, 32, 128)      0         \n",
            " 2D)                                                             \n",
            "                                                                 \n",
            " conv2d_3 (Conv2D)           (None, 32, 32, 256)       295168    \n",
            "                                                                 \n",
            " max_pooling2d_3 (MaxPooling  (None, 16, 16, 256)      0         \n",
            " 2D)                                                             \n",
            "                                                                 \n",
            " conv2d_4 (Conv2D)           (None, 16, 16, 512)       786944    \n",
            "                                                                 \n",
            " max_pooling2d_4 (MaxPooling  (None, 8, 8, 512)        0         \n",
            " 2D)                                                             \n",
            "                                                                 \n",
            " flatten (Flatten)           (None, 32768)             0         \n",
            "                                                                 \n",
            " dense (Dense)               (None, 256)               8388864   \n",
            "                                                                 \n",
            " dense_1 (Dense)             (None, 128)               32896     \n",
            "                                                                 \n",
            " dense_2 (Dense)             (None, 64)                8256      \n",
            "                                                                 \n",
            " dense_3 (Dense)             (None, 32)                2080      \n",
            "                                                                 \n",
            " dense_4 (Dense)             (None, 4)                 132       \n",
            "                                                                 \n",
            "=================================================================\n",
            "Total params: 9,607,012\n",
            "Trainable params: 9,607,012\n",
            "Non-trainable params: 0\n",
            "_________________________________________________________________\n"
          ]
        }
      ]
    },
    {
      "cell_type": "code",
      "source": [
        "learning_rate = 0.0001\n",
        "opt = Adam(lr = learning_rate) \n",
        "model.compile(optimizer = opt, loss = 'categorical_crossentropy', metrics = ['accuracy'] )"
      ],
      "metadata": {
        "colab": {
          "base_uri": "https://localhost:8080/"
        },
        "id": "86bqJa2TmSIo",
        "outputId": "196f10b0-14c1-4c94-9c36-da17c0a58a8c"
      },
      "execution_count": 22,
      "outputs": [
        {
          "output_type": "stream",
          "name": "stderr",
          "text": [
            "/usr/local/lib/python3.8/dist-packages/keras/optimizers/optimizer_v2/adam.py:110: UserWarning: The `lr` argument is deprecated, use `learning_rate` instead.\n",
            "  super(Adam, self).__init__(name, **kwargs)\n"
          ]
        }
      ]
    },
    {
      "cell_type": "code",
      "source": [
        "hist = model.fit(X_train, y_train, batch_size = 100, epochs = 10, verbose = 1, validation_split = 0.2)"
      ],
      "metadata": {
        "colab": {
          "base_uri": "https://localhost:8080/"
        },
        "id": "KkmPxQDkmTt5",
        "outputId": "477fcd0d-8f8d-48e9-9d8b-8efde6b4588a"
      },
      "execution_count": 24,
      "outputs": [
        {
          "output_type": "stream",
          "name": "stdout",
          "text": [
            "Epoch 1/10\n",
            "2/2 [==============================] - 23s 2s/step - loss: 1.3795 - accuracy: 0.3137 - val_loss: 1.3682 - val_accuracy: 0.4615\n",
            "Epoch 2/10\n",
            "2/2 [==============================] - 20s 2s/step - loss: 1.3622 - accuracy: 0.5098 - val_loss: 1.3529 - val_accuracy: 0.5000\n",
            "Epoch 3/10\n",
            "2/2 [==============================] - 20s 2s/step - loss: 1.3435 - accuracy: 0.5196 - val_loss: 1.3309 - val_accuracy: 0.3846\n",
            "Epoch 4/10\n",
            "2/2 [==============================] - 21s 2s/step - loss: 1.3221 - accuracy: 0.4314 - val_loss: 1.3094 - val_accuracy: 0.4615\n",
            "Epoch 5/10\n",
            "2/2 [==============================] - 21s 2s/step - loss: 1.2982 - accuracy: 0.4412 - val_loss: 1.2901 - val_accuracy: 0.2692\n",
            "Epoch 6/10\n",
            "2/2 [==============================] - 21s 2s/step - loss: 1.2654 - accuracy: 0.3725 - val_loss: 1.2515 - val_accuracy: 0.2692\n",
            "Epoch 7/10\n",
            "2/2 [==============================] - 20s 2s/step - loss: 1.2246 - accuracy: 0.3725 - val_loss: 1.1818 - val_accuracy: 0.5385\n",
            "Epoch 8/10\n",
            "2/2 [==============================] - 20s 2s/step - loss: 1.1774 - accuracy: 0.4412 - val_loss: 1.1154 - val_accuracy: 0.7308\n",
            "Epoch 9/10\n",
            "2/2 [==============================] - 23s 2s/step - loss: 1.1400 - accuracy: 0.6176 - val_loss: 1.0722 - val_accuracy: 0.7692\n",
            "Epoch 10/10\n",
            "2/2 [==============================] - 20s 2s/step - loss: 1.1300 - accuracy: 0.7255 - val_loss: 1.0343 - val_accuracy: 0.7692\n"
          ]
        }
      ]
    },
    {
      "cell_type": "code",
      "source": [
        "# Evaluate the model w.r.t Test Loss and Test Accuracy\n",
        "score = model.evaluate(X_test, y_test)\n",
        "print('Test Loss:', score[0])\n",
        "\n",
        "print('Test accuracy:', score[1])"
      ],
      "metadata": {
        "colab": {
          "base_uri": "https://localhost:8080/"
        },
        "id": "zWIAW17amZyO",
        "outputId": "76e7d46b-a3cc-4644-c331-b04f8650ae34"
      },
      "execution_count": 25,
      "outputs": [
        {
          "output_type": "stream",
          "name": "stdout",
          "text": [
            "1/1 [==============================] - 2s 2s/step - loss: 1.2445 - accuracy: 0.5938\n",
            "Test Loss: 1.2444913387298584\n",
            "Test accuracy: 0.59375\n"
          ]
        }
      ]
    }
  ]
}