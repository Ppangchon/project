{
  "nbformat": 4,
  "nbformat_minor": 0,
  "metadata": {
    "colab": {
      "provenance": [],
      "authorship_tag": "ABX9TyPjiYvnJqZg5BROFUNJGfDL",
      "include_colab_link": true
    },
    "kernelspec": {
      "name": "python3",
      "display_name": "Python 3"
    },
    "language_info": {
      "name": "python"
    }
  },
  "cells": [
    {
      "cell_type": "markdown",
      "metadata": {
        "id": "view-in-github",
        "colab_type": "text"
      },
      "source": [
        "<a href=\"https://colab.research.google.com/github/Ppangchon/project/blob/main/Train.ipynb\" target=\"_parent\"><img src=\"https://colab.research.google.com/assets/colab-badge.svg\" alt=\"Open In Colab\"/></a>"
      ]
    },
    {
      "cell_type": "code",
      "source": [
        "import tensorflow as tf\n",
        "import PIL\n",
        "import time\n",
        "from tensorflow.keras import layers\n",
        "import matplotlib.pyplot as plt\n",
        "import numpy as np\n",
        "import pickle as p\n",
        "import plotly\n",
        "from tensorflow.keras.models import load_model\n",
        "from tensorflow.keras.models import model_from_json\n",
        "import plotly.graph_objs as go\n",
        "from tensorflow import keras\n",
        "from tensorflow.keras.models import Sequential"
      ],
      "metadata": {
        "id": "TzedHQcTaoIC"
      },
      "execution_count": 2,
      "outputs": []
    },
    {
      "cell_type": "markdown",
      "source": [
        "## เตรียมชุดของข้อมูล"
      ],
      "metadata": {
        "id": "RoypeWxMayY0"
      }
    },
    {
      "cell_type": "code",
      "source": [
        "import pathlib\n",
        "datadir = “D:/data fruit” # path ของ dataset\n",
        "data = pathlib.Path(datadir)\n",
        "image_count = len(list(data.glob(‘*/*.jpg’))) # ขนาดของ dataset\n",
        "print(“จำนวนรูปภาพที่มี .jpg : “,image_count)"
      ],
      "metadata": {
        "id": "AuKRTNNWavbf"
      },
      "execution_count": null,
      "outputs": []
    },
    {
      "cell_type": "code",
      "source": [
        "batch_size = 15   # กำหนดขนาดของแต่ละการอ่านข้อมูล\n",
        "img_height = 150  # ความสูงของรูปภาพแต่ละรูป\n",
        "img_width = 150   # ความกว้างของรูปภาพแต่ละรูป"
      ],
      "metadata": {
        "id": "zR32sheemL99"
      },
      "execution_count": null,
      "outputs": []
    },
    {
      "cell_type": "markdown",
      "source": [
        "## Train"
      ],
      "metadata": {
        "id": "Lg-RvmyNmgEv"
      }
    },
    {
      "cell_type": "code",
      "source": [
        "train = tf.keras.preprocessing.image_dataset_from_directory(\n",
        "data,\n",
        "validation_split=0.2, #sแบ่งข้อมูล เพื่อ training 80% และ validate 20%\n",
        "subset=”training”,\n",
        "seed=123,\n",
        "image_size=(img_height, img_width),\n",
        "batch_size=batch_size)\n",
        "val = tf.keras.preprocessing.image_dataset_from_directory(\n",
        "data,\n",
        "validation_split=0.2,\n",
        "subset=”validation”,\n",
        "seed=123,\n",
        "image_size=(img_height, img_width),\n",
        "batch_size=batch_size)"
      ],
      "metadata": {
        "id": "8o3TN9icmlci"
      },
      "execution_count": null,
      "outputs": []
    },
    {
      "cell_type": "code",
      "source": [
        "class_names = train_ds.class_names\n",
        "print(class_names)"
      ],
      "metadata": {
        "id": "W3u8_wONmoqQ"
      },
      "execution_count": null,
      "outputs": []
    },
    {
      "cell_type": "code",
      "source": [
        "import matplotlib.pyplot as plt\n",
        "plt.figure(figsize=(16, 16))\n",
        "for images, labels in train.take(1):\n",
        "for i in range(9):\n",
        "ax = plt.subplot(3, 3, i + 1)\n",
        "plt.imshow(images[i].numpy().astype(“uint8”))\n",
        "plt.title(class_names[labels[i]])\n",
        "plt.axis(“off”)"
      ],
      "metadata": {
        "id": "6tDgGa5cmrcs"
      },
      "execution_count": null,
      "outputs": []
    },
    {
      "cell_type": "code",
      "source": [
        "for image_batch, labels_batch in train:\n",
        "print(image_batch.shape)\n",
        "print(labels_batch.shape)\n",
        "break"
      ],
      "metadata": {
        "id": "3lp2nr70mucu"
      },
      "execution_count": null,
      "outputs": []
    },
    {
      "cell_type": "markdown",
      "source": [
        "## Normalization"
      ],
      "metadata": {
        "id": "WtDgFXFLmxNd"
      }
    },
    {
      "cell_type": "code",
      "source": [
        "normalization_layer = layers.experimental.preprocessing.Rescaling(1./255)\n",
        "normalized_ds = train.map(lambda x, y: (normalization_layer(x), y))\n",
        "image_batch, labels_batch = next(iter(normalized_ds))\n",
        "first_image = image_batch[0]\n",
        "print(np.min(first_image), np.max(first_image))"
      ],
      "metadata": {
        "id": "S6welYZVmziE"
      },
      "execution_count": null,
      "outputs": []
    },
    {
      "cell_type": "markdown",
      "source": [
        "## Model"
      ],
      "metadata": {
        "id": "c_NZG7Z8m2Fn"
      }
    },
    {
      "cell_type": "code",
      "source": [
        "num_classes = 5\n",
        "epochs=10   # จำนวนครั้งที่เราจะ Train"
      ],
      "metadata": {
        "id": "_AhiZMbum1Ig"
      },
      "execution_count": null,
      "outputs": []
    },
    {
      "cell_type": "code",
      "source": [
        "model = Sequential([\n",
        "layers.experimental.preprocessing.Rescaling(1./255, input_shape=(img_height, img_width, 3)),\n",
        "layers.Conv2D(16, 3, padding=’same’, activation=’relu’),\n",
        "layers.MaxPooling2D(),\n",
        "layers.Conv2D(32, 3, padding=’same’, activation=’relu’),\n",
        "layers.MaxPooling2D(),\n",
        "layers.Conv2D(64, 3, padding=’same’, activation=’relu’),\n",
        "layers.MaxPooling2D(),\n",
        "layers.Flatten(),\n",
        "layers.Dense(128, activation=’relu’),\n",
        "layers.Dense(num_classes)\n",
        "])"
      ],
      "metadata": {
        "id": "S6AtpE87m-kv"
      },
      "execution_count": null,
      "outputs": []
    },
    {
      "cell_type": "code",
      "source": [
        "model.compile(optimizer=’adam’,\n",
        "loss=tf.keras.losses.SparseCategoricalCrossentropy(from_logits=True),\n",
        "metrics=[‘accuracy’])\n",
        "model.summary()"
      ],
      "metadata": {
        "id": "W8kEjQ77nBEQ"
      },
      "execution_count": null,
      "outputs": []
    },
    {
      "cell_type": "code",
      "source": [
        "his = model.fit(\n",
        "train,\n",
        "validation_data=val,\n",
        "epochs=epochs\n",
        ")"
      ],
      "metadata": {
        "id": "Rn8Jez1NnDnA"
      },
      "execution_count": null,
      "outputs": []
    },
    {
      "cell_type": "markdown",
      "source": [
        "## Save Model"
      ],
      "metadata": {
        "id": "6RV4MlOOnGsi"
      }
    },
    {
      "cell_type": "code",
      "source": [
        "with open(‘history_model’, ‘wb’) as file:\n",
        "p.dump(his.history, file)\n",
        "\n",
        "filepath=’model1.h5'\n",
        "model.save(filepath)\n",
        "filepath_model = ‘model1.json’\n",
        "filepath_weights = ‘weights_model.h5’\n",
        "model_json = model.to_json()\n",
        "with open(filepath_model, “w”) as json_file:\n",
        "json_file.write(model_json)\n",
        "\n",
        "model.save_weights(‘weights_model.h5’)\n",
        "print(“Saved model to disk”)"
      ],
      "metadata": {
        "id": "U3qhbWsqnSwD"
      },
      "execution_count": null,
      "outputs": []
    },
    {
      "cell_type": "markdown",
      "source": [
        "## Load Model"
      ],
      "metadata": {
        "id": "so7sx7OJnVIx"
      }
    },
    {
      "cell_type": "code",
      "source": [
        "with open(‘history_model’, ‘rb’) as file:\n",
        "his = p.load(file)\n",
        "\n",
        "h1 = go.Scatter(y=his[‘loss’],\n",
        "mode=”lines”, line=dict(\n",
        "width=2,\n",
        "color=’blue’),\n",
        "name=”loss”\n",
        ")\n",
        "h2 = go.Scatter(y=his[‘val_loss’],\n",
        "mode=”lines”, line=dict(\n",
        "width=2,\n",
        "color=’red’),\n",
        "name=”val_loss”\n",
        ")\n",
        "\n",
        "data = [h1,h2]\n",
        "layout1 = go.Layout(title=’Loss’,\n",
        "xaxis=dict(title=’epochs’),\n",
        "yaxis=dict(title=’’))\n",
        "fig1 = go.Figure(data, layout=layout1)\n",
        "plotly.offline.iplot(fig1, filename=”testMNIST”)\n",
        "predict_model = load_model(filepath)\n",
        "predict_model.summary()\n",
        "with open(filepath_model, ‘r’) as f:\n",
        "loaded_model_json = f.read()\n",
        "predict_model = model_from_json(loaded_model_json)\n",
        "predict_model.load_weights(filepath_weights)\n",
        "print(“Loaded model from disk”)"
      ],
      "metadata": {
        "id": "cvRgb91BnYUE"
      },
      "execution_count": null,
      "outputs": []
    },
    {
      "cell_type": "markdown",
      "source": [
        "## Prediction"
      ],
      "metadata": {
        "id": "ywPGTo4fnikb"
      }
    },
    {
      "cell_type": "code",
      "source": [
        "import requests\n",
        "from IPython.display import Image\n",
        "from io import BytesIO\n",
        "test_path = (‘D:/a1.jpg’)\n",
        "img = keras.preprocessing.image.load_img(\n",
        "test_path, target_size=(img_height, img_width)\n",
        ")\n",
        "img_array = keras.preprocessing.image.img_to_array(img)\n",
        "img_array = tf.expand_dims(img_array, 0) # Create a batch\n",
        "predictions = predict_model.predict(img_array)\n",
        "score = tf.nn.softmax(predictions[0])\n",
        "print(“apple”,score[0],”banana”,score[1],”mangosteen”,score[2],”orange”,score[3],”pineapple”,score[4])\n",
        "display(Image(filename=test_path,width=180, height=180))\n",
        "if score[0]==np.max(score) :\n",
        "fruit = “apple”\n",
        "elif score[1]==np.max(score) :\n",
        "fruit = “banana”\n",
        "elif score[2]==np.max(score) :\n",
        "fruit = “mangosteen”\n",
        "elif score[3]==np.max(score) :\n",
        "fruit = “orange”\n",
        "elif score[4]==np.max(score) :\n",
        "fruit = “pineapple”\n",
        "print(\n",
        "“AI {} มีความมั่นใจ {:.2f}%.”\n",
        ".format(fruit, 100 * np.max(score))\n",
        ")"
      ],
      "metadata": {
        "id": "2WNf_st_nlPt"
      },
      "execution_count": null,
      "outputs": []
    }
  ]
}